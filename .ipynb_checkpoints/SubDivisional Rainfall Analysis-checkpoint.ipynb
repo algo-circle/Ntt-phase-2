{
 "cells": [
  {
   "cell_type": "markdown",
   "metadata": {},
   "source": [
    "EDA of the rainfall patterns till date"
   ]
  },
  {
   "cell_type": "code",
   "execution_count": 1,
   "metadata": {},
   "outputs": [],
   "source": [
    "import os\n",
    "import pandas as pd\n",
    "import numpy as np\n",
    "import matplotlib.pyplot as plt"
   ]
  },
  {
   "cell_type": "code",
   "execution_count": 2,
   "metadata": {
    "scrolled": false
   },
   "outputs": [],
   "source": [
    "os.chdir(r\"datasets/\")"
   ]
  },
  {
   "cell_type": "code",
   "execution_count": 3,
   "metadata": {},
   "outputs": [],
   "source": [
    "#rn is the weighted rainfall in india\n",
    "#south_pen is the rainfall in Southern Peninsula\n",
    "#subd is SubDivisional Rainfall in India with parameters\n",
    "#sb is the SubDivisional Rainfall dataset of India we will work on"
   ]
  },
  {
   "cell_type": "code",
   "execution_count": 4,
   "metadata": {},
   "outputs": [],
   "source": [
    "subd= pd.read_csv(\"sub-division_rainfall_act_dep_1901-2015.csv\")\n",
    "south_pen= pd.read_csv('south_pen-India_rainfall_act_dep_1901_2016.csv')"
   ]
  },
  {
   "cell_type": "code",
   "execution_count": 5,
   "metadata": {},
   "outputs": [],
   "source": [
    "rn= pd.read_csv('rainfall_area-wt_India_1901-2015.csv')"
   ]
  },
  {
   "cell_type": "code",
   "execution_count": 6,
   "metadata": {},
   "outputs": [],
   "source": [
    "sb = pd.read_csv(\"Sub_Division_IMD_2017.csv\")"
   ]
  },
  {
   "cell_type": "code",
   "execution_count": 7,
   "metadata": {},
   "outputs": [
    {
     "data": {
      "text/plain": [
       "(4188, 19)"
      ]
     },
     "execution_count": 7,
     "metadata": {},
     "output_type": "execute_result"
    }
   ],
   "source": [
    "sb.head()\n",
    "sb.shape"
   ]
  },
  {
   "cell_type": "markdown",
   "metadata": {},
   "source": [
    "<b><font size=\"5\">Exploratory Data Analysis </font></b> <br>\n",
    "<font size=\"3\">Cleaning the Data</font>"
   ]
  },
  {
   "cell_type": "code",
   "execution_count": 8,
   "metadata": {},
   "outputs": [],
   "source": [
    "#checking the null values in the data set"
   ]
  },
  {
   "cell_type": "code",
   "execution_count": 9,
   "metadata": {},
   "outputs": [
    {
     "data": {
      "text/plain": [
       "SUBDIVISION     0\n",
       "YEAR            0\n",
       "JAN             4\n",
       "FEB             3\n",
       "MAR             6\n",
       "APR             4\n",
       "MAY             3\n",
       "JUN             5\n",
       "JUL             7\n",
       "AUG             4\n",
       "SEP             6\n",
       "OCT             7\n",
       "NOV            11\n",
       "DEC            10\n",
       "ANNUAL         26\n",
       "JF              6\n",
       "MAM             9\n",
       "JJAS           10\n",
       "OND            13\n",
       "dtype: int64"
      ]
     },
     "execution_count": 9,
     "metadata": {},
     "output_type": "execute_result"
    }
   ],
   "source": [
    "sb.isnull().sum()"
   ]
  },
  {
   "cell_type": "code",
   "execution_count": 10,
   "metadata": {},
   "outputs": [
    {
     "data": {
      "text/plain": [
       "YEAR      1959.220630\n",
       "JAN         18.938337\n",
       "FEB         21.599427\n",
       "MAR         27.412912\n",
       "APR         43.071845\n",
       "MAY         85.660860\n",
       "JUN        230.117475\n",
       "JUL        347.020043\n",
       "AUG        289.742185\n",
       "SEP        197.316332\n",
       "OCT         95.324707\n",
       "NOV         39.496433\n",
       "DEC         18.968645\n",
       "ANNUAL    1409.449207\n",
       "JF          40.522979\n",
       "MAM        155.820914\n",
       "JJAS      1063.851580\n",
       "OND        153.648623\n",
       "dtype: float64"
      ]
     },
     "execution_count": 10,
     "metadata": {},
     "output_type": "execute_result"
    }
   ],
   "source": [
    "#getting the mean for each column\n",
    "sb.mean()"
   ]
  },
  {
   "cell_type": "code",
   "execution_count": 11,
   "metadata": {},
   "outputs": [],
   "source": [
    "sb=sb.fillna(np.mean(sb))"
   ]
  },
  {
   "cell_type": "code",
   "execution_count": 12,
   "metadata": {},
   "outputs": [],
   "source": [
    "#checking if the data still contains null values after pre processing"
   ]
  },
  {
   "cell_type": "code",
   "execution_count": 13,
   "metadata": {},
   "outputs": [
    {
     "data": {
      "text/plain": [
       "SUBDIVISION    0\n",
       "YEAR           0\n",
       "JAN            0\n",
       "FEB            0\n",
       "MAR            0\n",
       "APR            0\n",
       "MAY            0\n",
       "JUN            0\n",
       "JUL            0\n",
       "AUG            0\n",
       "SEP            0\n",
       "OCT            0\n",
       "NOV            0\n",
       "DEC            0\n",
       "ANNUAL         0\n",
       "JF             0\n",
       "MAM            0\n",
       "JJAS           0\n",
       "OND            0\n",
       "dtype: int64"
      ]
     },
     "execution_count": 13,
     "metadata": {},
     "output_type": "execute_result"
    }
   ],
   "source": [
    "sb.isnull().sum()"
   ]
  },
  {
   "cell_type": "code",
   "execution_count": 14,
   "metadata": {},
   "outputs": [],
   "source": [
    "#grouping the data according to their Subdivision name so that we can separate out KERALA stats\n",
    "\n",
    "sb_groups= sb.groupby('SUBDIVISION')"
   ]
  },
  {
   "cell_type": "code",
   "execution_count": 15,
   "metadata": {},
   "outputs": [],
   "source": [
    "ker_monthly= sb[sb.SUBDIVISION== 'Kerala']"
   ]
  },
  {
   "cell_type": "code",
   "execution_count": 16,
   "metadata": {},
   "outputs": [
    {
     "name": "stdout",
     "output_type": "stream",
     "text": [
      "<class 'pandas.core.frame.DataFrame'>\n",
      "Int64Index: 117 entries, 3955 to 4071\n",
      "Data columns (total 19 columns):\n",
      "SUBDIVISION    117 non-null object\n",
      "YEAR           117 non-null int64\n",
      "JAN            117 non-null float64\n",
      "FEB            117 non-null float64\n",
      "MAR            117 non-null float64\n",
      "APR            117 non-null float64\n",
      "MAY            117 non-null float64\n",
      "JUN            117 non-null float64\n",
      "JUL            117 non-null float64\n",
      "AUG            117 non-null float64\n",
      "SEP            117 non-null float64\n",
      "OCT            117 non-null float64\n",
      "NOV            117 non-null float64\n",
      "DEC            117 non-null float64\n",
      "ANNUAL         117 non-null float64\n",
      "JF             117 non-null float64\n",
      "MAM            117 non-null float64\n",
      "JJAS           117 non-null float64\n",
      "OND            117 non-null float64\n",
      "dtypes: float64(17), int64(1), object(1)\n",
      "memory usage: 18.3+ KB\n"
     ]
    }
   ],
   "source": [
    "ker_monthly.info()"
   ]
  },
  {
   "cell_type": "code",
   "execution_count": 17,
   "metadata": {},
   "outputs": [
    {
     "data": {
      "text/plain": [
       "SUBDIVISION\n",
       "Andaman & Nicobar Islands             112\n",
       "Arunachal Pradesh                      99\n",
       "Assam & Meghalaya                     117\n",
       "Bihar                                 117\n",
       "Chhattisgarh                          117\n",
       "Coastal Andhra Pradesh                117\n",
       "Coastal Karnataka                     117\n",
       "East Madhya Pradesh                   117\n",
       "East Rajasthan                        117\n",
       "East Uttar Pradesh                    117\n",
       "Gangetic West Bengal                  117\n",
       "Gujarat Region                        117\n",
       "Haryana Delhi & Chandigarh            117\n",
       "Himachal Pradesh                      117\n",
       "Jammu & Kashmir                       117\n",
       "Jharkhand                             117\n",
       "Kerala                                117\n",
       "Konkan & Goa                          117\n",
       "Lakshadweep                           116\n",
       "Madhya Maharashtra                    117\n",
       "Matathwada                            117\n",
       "Naga Mani Mizo Tripura                117\n",
       "North Interior Karnataka              117\n",
       "Orissa                                117\n",
       "Punjab                                117\n",
       "Rayalseema                            117\n",
       "Saurashtra & Kutch                    117\n",
       "South Interior Karnataka              117\n",
       "Sub Himalayan West Bengal & Sikkim    117\n",
       "Tamil Nadu                            117\n",
       "Telangana                             117\n",
       "Uttarakhand                           117\n",
       "Vidarbha                              117\n",
       "West Madhya Pradesh                   117\n",
       "West Rajasthan                        117\n",
       "West Uttar Pradesh                    117\n",
       "dtype: int64"
      ]
     },
     "execution_count": 17,
     "metadata": {},
     "output_type": "execute_result"
    }
   ],
   "source": [
    "sb_groups.size()"
   ]
  },
  {
   "cell_type": "code",
   "execution_count": 41,
   "metadata": {
    "scrolled": true
   },
   "outputs": [
    {
     "data": {
      "text/html": [
       "<div>\n",
       "<style scoped>\n",
       "    .dataframe tbody tr th:only-of-type {\n",
       "        vertical-align: middle;\n",
       "    }\n",
       "\n",
       "    .dataframe tbody tr th {\n",
       "        vertical-align: top;\n",
       "    }\n",
       "\n",
       "    .dataframe thead th {\n",
       "        text-align: right;\n",
       "    }\n",
       "</style>\n",
       "<table border=\"1\" class=\"dataframe\">\n",
       "  <thead>\n",
       "    <tr style=\"text-align: right;\">\n",
       "      <th></th>\n",
       "      <th>SUBDIVISION</th>\n",
       "      <th>YEAR</th>\n",
       "      <th>JAN</th>\n",
       "      <th>FEB</th>\n",
       "      <th>MAR</th>\n",
       "      <th>APR</th>\n",
       "      <th>MAY</th>\n",
       "      <th>JUN</th>\n",
       "      <th>JUL</th>\n",
       "      <th>AUG</th>\n",
       "      <th>SEP</th>\n",
       "      <th>OCT</th>\n",
       "      <th>NOV</th>\n",
       "      <th>DEC</th>\n",
       "    </tr>\n",
       "  </thead>\n",
       "  <tbody>\n",
       "    <tr>\n",
       "      <th>3955</th>\n",
       "      <td>Kerala</td>\n",
       "      <td>1901</td>\n",
       "      <td>28.7</td>\n",
       "      <td>44.7</td>\n",
       "      <td>51.6</td>\n",
       "      <td>160.0</td>\n",
       "      <td>174.7</td>\n",
       "      <td>824.6</td>\n",
       "      <td>743.0</td>\n",
       "      <td>357.5</td>\n",
       "      <td>197.7</td>\n",
       "      <td>266.9</td>\n",
       "      <td>350.8</td>\n",
       "      <td>48.4</td>\n",
       "    </tr>\n",
       "    <tr>\n",
       "      <th>3956</th>\n",
       "      <td>Kerala</td>\n",
       "      <td>1902</td>\n",
       "      <td>6.7</td>\n",
       "      <td>2.6</td>\n",
       "      <td>57.3</td>\n",
       "      <td>83.9</td>\n",
       "      <td>134.5</td>\n",
       "      <td>390.9</td>\n",
       "      <td>1205.0</td>\n",
       "      <td>315.8</td>\n",
       "      <td>491.6</td>\n",
       "      <td>358.4</td>\n",
       "      <td>158.3</td>\n",
       "      <td>121.5</td>\n",
       "    </tr>\n",
       "    <tr>\n",
       "      <th>3957</th>\n",
       "      <td>Kerala</td>\n",
       "      <td>1903</td>\n",
       "      <td>3.2</td>\n",
       "      <td>18.6</td>\n",
       "      <td>3.1</td>\n",
       "      <td>83.6</td>\n",
       "      <td>249.7</td>\n",
       "      <td>558.6</td>\n",
       "      <td>1022.5</td>\n",
       "      <td>420.2</td>\n",
       "      <td>341.8</td>\n",
       "      <td>354.1</td>\n",
       "      <td>157.0</td>\n",
       "      <td>59.0</td>\n",
       "    </tr>\n",
       "    <tr>\n",
       "      <th>3958</th>\n",
       "      <td>Kerala</td>\n",
       "      <td>1904</td>\n",
       "      <td>23.7</td>\n",
       "      <td>3.0</td>\n",
       "      <td>32.2</td>\n",
       "      <td>71.5</td>\n",
       "      <td>235.7</td>\n",
       "      <td>1098.2</td>\n",
       "      <td>725.5</td>\n",
       "      <td>351.8</td>\n",
       "      <td>222.7</td>\n",
       "      <td>328.1</td>\n",
       "      <td>33.9</td>\n",
       "      <td>3.3</td>\n",
       "    </tr>\n",
       "    <tr>\n",
       "      <th>3959</th>\n",
       "      <td>Kerala</td>\n",
       "      <td>1905</td>\n",
       "      <td>1.2</td>\n",
       "      <td>22.3</td>\n",
       "      <td>9.4</td>\n",
       "      <td>105.9</td>\n",
       "      <td>263.3</td>\n",
       "      <td>850.2</td>\n",
       "      <td>520.5</td>\n",
       "      <td>293.6</td>\n",
       "      <td>217.2</td>\n",
       "      <td>383.5</td>\n",
       "      <td>74.4</td>\n",
       "      <td>0.2</td>\n",
       "    </tr>\n",
       "    <tr>\n",
       "      <th>3960</th>\n",
       "      <td>Kerala</td>\n",
       "      <td>1906</td>\n",
       "      <td>26.7</td>\n",
       "      <td>7.4</td>\n",
       "      <td>9.9</td>\n",
       "      <td>59.4</td>\n",
       "      <td>160.8</td>\n",
       "      <td>414.9</td>\n",
       "      <td>954.2</td>\n",
       "      <td>442.8</td>\n",
       "      <td>131.2</td>\n",
       "      <td>251.7</td>\n",
       "      <td>163.1</td>\n",
       "      <td>86.0</td>\n",
       "    </tr>\n",
       "    <tr>\n",
       "      <th>3961</th>\n",
       "      <td>Kerala</td>\n",
       "      <td>1907</td>\n",
       "      <td>18.8</td>\n",
       "      <td>4.8</td>\n",
       "      <td>55.7</td>\n",
       "      <td>170.8</td>\n",
       "      <td>101.4</td>\n",
       "      <td>770.9</td>\n",
       "      <td>760.4</td>\n",
       "      <td>981.5</td>\n",
       "      <td>225.0</td>\n",
       "      <td>309.7</td>\n",
       "      <td>219.1</td>\n",
       "      <td>52.8</td>\n",
       "    </tr>\n",
       "    <tr>\n",
       "      <th>3962</th>\n",
       "      <td>Kerala</td>\n",
       "      <td>1908</td>\n",
       "      <td>8.0</td>\n",
       "      <td>20.8</td>\n",
       "      <td>38.2</td>\n",
       "      <td>102.9</td>\n",
       "      <td>142.6</td>\n",
       "      <td>592.6</td>\n",
       "      <td>902.2</td>\n",
       "      <td>352.9</td>\n",
       "      <td>175.9</td>\n",
       "      <td>253.3</td>\n",
       "      <td>47.9</td>\n",
       "      <td>11.0</td>\n",
       "    </tr>\n",
       "    <tr>\n",
       "      <th>3963</th>\n",
       "      <td>Kerala</td>\n",
       "      <td>1909</td>\n",
       "      <td>54.1</td>\n",
       "      <td>11.8</td>\n",
       "      <td>61.3</td>\n",
       "      <td>93.8</td>\n",
       "      <td>473.2</td>\n",
       "      <td>704.7</td>\n",
       "      <td>782.3</td>\n",
       "      <td>258.0</td>\n",
       "      <td>195.4</td>\n",
       "      <td>212.1</td>\n",
       "      <td>171.1</td>\n",
       "      <td>32.3</td>\n",
       "    </tr>\n",
       "    <tr>\n",
       "      <th>3964</th>\n",
       "      <td>Kerala</td>\n",
       "      <td>1910</td>\n",
       "      <td>2.7</td>\n",
       "      <td>25.7</td>\n",
       "      <td>23.3</td>\n",
       "      <td>124.5</td>\n",
       "      <td>148.8</td>\n",
       "      <td>680.0</td>\n",
       "      <td>484.1</td>\n",
       "      <td>473.8</td>\n",
       "      <td>248.6</td>\n",
       "      <td>356.6</td>\n",
       "      <td>280.4</td>\n",
       "      <td>0.1</td>\n",
       "    </tr>\n",
       "  </tbody>\n",
       "</table>\n",
       "</div>"
      ],
      "text/plain": [
       "     SUBDIVISION  YEAR   JAN   FEB   MAR    APR    MAY     JUN     JUL    AUG  \\\n",
       "3955      Kerala  1901  28.7  44.7  51.6  160.0  174.7   824.6   743.0  357.5   \n",
       "3956      Kerala  1902   6.7   2.6  57.3   83.9  134.5   390.9  1205.0  315.8   \n",
       "3957      Kerala  1903   3.2  18.6   3.1   83.6  249.7   558.6  1022.5  420.2   \n",
       "3958      Kerala  1904  23.7   3.0  32.2   71.5  235.7  1098.2   725.5  351.8   \n",
       "3959      Kerala  1905   1.2  22.3   9.4  105.9  263.3   850.2   520.5  293.6   \n",
       "3960      Kerala  1906  26.7   7.4   9.9   59.4  160.8   414.9   954.2  442.8   \n",
       "3961      Kerala  1907  18.8   4.8  55.7  170.8  101.4   770.9   760.4  981.5   \n",
       "3962      Kerala  1908   8.0  20.8  38.2  102.9  142.6   592.6   902.2  352.9   \n",
       "3963      Kerala  1909  54.1  11.8  61.3   93.8  473.2   704.7   782.3  258.0   \n",
       "3964      Kerala  1910   2.7  25.7  23.3  124.5  148.8   680.0   484.1  473.8   \n",
       "\n",
       "        SEP    OCT    NOV    DEC  \n",
       "3955  197.7  266.9  350.8   48.4  \n",
       "3956  491.6  358.4  158.3  121.5  \n",
       "3957  341.8  354.1  157.0   59.0  \n",
       "3958  222.7  328.1   33.9    3.3  \n",
       "3959  217.2  383.5   74.4    0.2  \n",
       "3960  131.2  251.7  163.1   86.0  \n",
       "3961  225.0  309.7  219.1   52.8  \n",
       "3962  175.9  253.3   47.9   11.0  \n",
       "3963  195.4  212.1  171.1   32.3  \n",
       "3964  248.6  356.6  280.4    0.1  "
      ]
     },
     "execution_count": 41,
     "metadata": {},
     "output_type": "execute_result"
    }
   ],
   "source": [
    "ker_monthly.head(10)"
   ]
  },
  {
   "cell_type": "code",
   "execution_count": 19,
   "metadata": {},
   "outputs": [],
   "source": [
    "n=3955\n",
    "for index,row in enumerate(ker_monthly):\n",
    "    if index== n:\n",
    "        print(ker_monthly)"
   ]
  },
  {
   "cell_type": "code",
   "execution_count": 20,
   "metadata": {},
   "outputs": [],
   "source": [
    "#Now we have Kerala's data of rainfall year wise\n",
    "#We now extract the subdivisional rainfall act_dept statistics from our subd DataFrame"
   ]
  },
  {
   "cell_type": "code",
   "execution_count": 31,
   "metadata": {},
   "outputs": [],
   "source": [
    "subd_groups=subd.groupby(\"SUBDIVISION\")\n"
   ]
  },
  {
   "cell_type": "code",
   "execution_count": 45,
   "metadata": {
    "scrolled": true
   },
   "outputs": [
    {
     "data": {
      "text/plain": [
       "(348, 20)"
      ]
     },
     "execution_count": 45,
     "metadata": {},
     "output_type": "execute_result"
    }
   ],
   "source": [
    "ker_stats= subd[subd.SUBDIVISION=='KERALA']\n",
    "ker_stats.shape"
   ]
  },
  {
   "cell_type": "code",
   "execution_count": 46,
   "metadata": {},
   "outputs": [
    {
     "data": {
      "text/plain": [
       "SUBDIVISION      0\n",
       "YEAR             0\n",
       "Parameter        0\n",
       "JAN              1\n",
       "FEB              0\n",
       "MAR              0\n",
       "APR              0\n",
       "MAY              0\n",
       "JUN              0\n",
       "JUL              0\n",
       "AUG              0\n",
       "SEP              0\n",
       "OCT              0\n",
       "NOV              0\n",
       "DEC              0\n",
       "ANNUAL         115\n",
       "JF             115\n",
       "MAM            115\n",
       "JJAS           115\n",
       "OND            115\n",
       "dtype: int64"
      ]
     },
     "execution_count": 46,
     "metadata": {},
     "output_type": "execute_result"
    }
   ],
   "source": [
    "ker_stats.isnull().sum()"
   ]
  },
  {
   "cell_type": "markdown",
   "metadata": {},
   "source": [
    "As we are able to see that there are too many null values in the columns that show the aggregate data</br>\n",
    "so we drop those columns to make our model more accurate.</br>\n",
    "We could have treated or filled those missing values with the column mean, </br>\n",
    "but that would have been inappropriate as there are just so many of them."
   ]
  },
  {
   "cell_type": "code",
   "execution_count": 47,
   "metadata": {
    "scrolled": true
   },
   "outputs": [],
   "source": [
    "ker_stats.drop(['ANNUAL','JF', 'MAM', 'JJAS', 'OND'], axis=1, inplace=True)"
   ]
  },
  {
   "cell_type": "code",
   "execution_count": 48,
   "metadata": {
    "scrolled": true
   },
   "outputs": [
    {
     "name": "stdout",
     "output_type": "stream",
     "text": [
      "<class 'pandas.core.frame.DataFrame'>\n",
      "Int64Index: 348 entries, 5499 to 5846\n",
      "Data columns (total 15 columns):\n",
      "SUBDIVISION    348 non-null object\n",
      "YEAR           348 non-null object\n",
      "Parameter      348 non-null object\n",
      "JAN            347 non-null float64\n",
      "FEB            348 non-null float64\n",
      "MAR            348 non-null float64\n",
      "APR            348 non-null float64\n",
      "MAY            348 non-null float64\n",
      "JUN            348 non-null float64\n",
      "JUL            348 non-null float64\n",
      "AUG            348 non-null float64\n",
      "SEP            348 non-null float64\n",
      "OCT            348 non-null float64\n",
      "NOV            348 non-null float64\n",
      "DEC            348 non-null float64\n",
      "dtypes: float64(12), object(3)\n",
      "memory usage: 43.5+ KB\n"
     ]
    }
   ],
   "source": [
    "ker_stats.info()"
   ]
  },
  {
   "cell_type": "code",
   "execution_count": 49,
   "metadata": {},
   "outputs": [
    {
     "data": {
      "text/html": [
       "<div>\n",
       "<style scoped>\n",
       "    .dataframe tbody tr th:only-of-type {\n",
       "        vertical-align: middle;\n",
       "    }\n",
       "\n",
       "    .dataframe tbody tr th {\n",
       "        vertical-align: top;\n",
       "    }\n",
       "\n",
       "    .dataframe thead th {\n",
       "        text-align: right;\n",
       "    }\n",
       "</style>\n",
       "<table border=\"1\" class=\"dataframe\">\n",
       "  <thead>\n",
       "    <tr style=\"text-align: right;\">\n",
       "      <th></th>\n",
       "      <th>SUBDIVISION</th>\n",
       "      <th>YEAR</th>\n",
       "      <th>Parameter</th>\n",
       "      <th>JAN</th>\n",
       "      <th>FEB</th>\n",
       "      <th>MAR</th>\n",
       "      <th>APR</th>\n",
       "      <th>MAY</th>\n",
       "      <th>JUN</th>\n",
       "      <th>JUL</th>\n",
       "      <th>AUG</th>\n",
       "      <th>SEP</th>\n",
       "      <th>OCT</th>\n",
       "      <th>NOV</th>\n",
       "      <th>DEC</th>\n",
       "    </tr>\n",
       "  </thead>\n",
       "  <tbody>\n",
       "    <tr>\n",
       "      <th>5499</th>\n",
       "      <td>KERALA</td>\n",
       "      <td>1901-2015</td>\n",
       "      <td>Mean</td>\n",
       "      <td>12.4</td>\n",
       "      <td>15.2</td>\n",
       "      <td>37.0</td>\n",
       "      <td>109.3</td>\n",
       "      <td>233.1</td>\n",
       "      <td>654.2</td>\n",
       "      <td>707.2</td>\n",
       "      <td>419.8</td>\n",
       "      <td>242.8</td>\n",
       "      <td>295.3</td>\n",
       "      <td>164.1</td>\n",
       "      <td>39.9</td>\n",
       "    </tr>\n",
       "    <tr>\n",
       "      <th>5500</th>\n",
       "      <td>KERALA</td>\n",
       "      <td>1901-2015</td>\n",
       "      <td>Standard deviation</td>\n",
       "      <td>15.8</td>\n",
       "      <td>16.1</td>\n",
       "      <td>30.8</td>\n",
       "      <td>43.5</td>\n",
       "      <td>151.3</td>\n",
       "      <td>185.4</td>\n",
       "      <td>225.4</td>\n",
       "      <td>159.3</td>\n",
       "      <td>123.7</td>\n",
       "      <td>95.2</td>\n",
       "      <td>85.2</td>\n",
       "      <td>37.5</td>\n",
       "    </tr>\n",
       "    <tr>\n",
       "      <th>5501</th>\n",
       "      <td>KERALA</td>\n",
       "      <td>1901-2015</td>\n",
       "      <td>Coefficient of variation</td>\n",
       "      <td>127.4</td>\n",
       "      <td>106.0</td>\n",
       "      <td>83.4</td>\n",
       "      <td>39.8</td>\n",
       "      <td>64.9</td>\n",
       "      <td>28.3</td>\n",
       "      <td>31.9</td>\n",
       "      <td>37.9</td>\n",
       "      <td>50.9</td>\n",
       "      <td>32.2</td>\n",
       "      <td>51.9</td>\n",
       "      <td>94.0</td>\n",
       "    </tr>\n",
       "    <tr>\n",
       "      <th>5502</th>\n",
       "      <td>KERALA</td>\n",
       "      <td>1901</td>\n",
       "      <td>Actual</td>\n",
       "      <td>28.7</td>\n",
       "      <td>44.7</td>\n",
       "      <td>51.6</td>\n",
       "      <td>160.0</td>\n",
       "      <td>174.7</td>\n",
       "      <td>824.6</td>\n",
       "      <td>743.0</td>\n",
       "      <td>357.5</td>\n",
       "      <td>197.7</td>\n",
       "      <td>266.9</td>\n",
       "      <td>350.8</td>\n",
       "      <td>48.4</td>\n",
       "    </tr>\n",
       "    <tr>\n",
       "      <th>5503</th>\n",
       "      <td>KERALA</td>\n",
       "      <td>1901</td>\n",
       "      <td>Percentage departure</td>\n",
       "      <td>130.6</td>\n",
       "      <td>194.4</td>\n",
       "      <td>39.5</td>\n",
       "      <td>46.4</td>\n",
       "      <td>-25.1</td>\n",
       "      <td>26.0</td>\n",
       "      <td>5.1</td>\n",
       "      <td>-14.8</td>\n",
       "      <td>-18.6</td>\n",
       "      <td>-9.6</td>\n",
       "      <td>113.8</td>\n",
       "      <td>21.3</td>\n",
       "    </tr>\n",
       "    <tr>\n",
       "      <th>5504</th>\n",
       "      <td>KERALA</td>\n",
       "      <td>1901</td>\n",
       "      <td>No. of districts</td>\n",
       "      <td>14.0</td>\n",
       "      <td>14.0</td>\n",
       "      <td>14.0</td>\n",
       "      <td>14.0</td>\n",
       "      <td>14.0</td>\n",
       "      <td>14.0</td>\n",
       "      <td>14.0</td>\n",
       "      <td>14.0</td>\n",
       "      <td>14.0</td>\n",
       "      <td>14.0</td>\n",
       "      <td>14.0</td>\n",
       "      <td>14.0</td>\n",
       "    </tr>\n",
       "    <tr>\n",
       "      <th>5505</th>\n",
       "      <td>KERALA</td>\n",
       "      <td>1902</td>\n",
       "      <td>Actual</td>\n",
       "      <td>6.7</td>\n",
       "      <td>2.6</td>\n",
       "      <td>57.3</td>\n",
       "      <td>83.9</td>\n",
       "      <td>134.5</td>\n",
       "      <td>390.9</td>\n",
       "      <td>1205.0</td>\n",
       "      <td>315.8</td>\n",
       "      <td>491.6</td>\n",
       "      <td>358.4</td>\n",
       "      <td>158.3</td>\n",
       "      <td>121.5</td>\n",
       "    </tr>\n",
       "    <tr>\n",
       "      <th>5506</th>\n",
       "      <td>KERALA</td>\n",
       "      <td>1902</td>\n",
       "      <td>Percentage departure</td>\n",
       "      <td>-46.3</td>\n",
       "      <td>-83.0</td>\n",
       "      <td>55.0</td>\n",
       "      <td>-23.2</td>\n",
       "      <td>-42.3</td>\n",
       "      <td>-40.2</td>\n",
       "      <td>70.4</td>\n",
       "      <td>-24.8</td>\n",
       "      <td>102.5</td>\n",
       "      <td>21.4</td>\n",
       "      <td>-3.5</td>\n",
       "      <td>204.3</td>\n",
       "    </tr>\n",
       "    <tr>\n",
       "      <th>5507</th>\n",
       "      <td>KERALA</td>\n",
       "      <td>1902</td>\n",
       "      <td>No. of districts</td>\n",
       "      <td>14.0</td>\n",
       "      <td>14.0</td>\n",
       "      <td>14.0</td>\n",
       "      <td>14.0</td>\n",
       "      <td>14.0</td>\n",
       "      <td>14.0</td>\n",
       "      <td>14.0</td>\n",
       "      <td>14.0</td>\n",
       "      <td>14.0</td>\n",
       "      <td>14.0</td>\n",
       "      <td>14.0</td>\n",
       "      <td>14.0</td>\n",
       "    </tr>\n",
       "    <tr>\n",
       "      <th>5508</th>\n",
       "      <td>KERALA</td>\n",
       "      <td>1903</td>\n",
       "      <td>Actual</td>\n",
       "      <td>3.2</td>\n",
       "      <td>18.6</td>\n",
       "      <td>3.1</td>\n",
       "      <td>83.6</td>\n",
       "      <td>249.7</td>\n",
       "      <td>558.6</td>\n",
       "      <td>1022.5</td>\n",
       "      <td>420.2</td>\n",
       "      <td>341.8</td>\n",
       "      <td>354.1</td>\n",
       "      <td>157.0</td>\n",
       "      <td>59.0</td>\n",
       "    </tr>\n",
       "  </tbody>\n",
       "</table>\n",
       "</div>"
      ],
      "text/plain": [
       "     SUBDIVISION       YEAR                 Parameter    JAN    FEB   MAR  \\\n",
       "5499      KERALA  1901-2015                      Mean   12.4   15.2  37.0   \n",
       "5500      KERALA  1901-2015        Standard deviation   15.8   16.1  30.8   \n",
       "5501      KERALA  1901-2015  Coefficient of variation  127.4  106.0  83.4   \n",
       "5502      KERALA       1901                    Actual   28.7   44.7  51.6   \n",
       "5503      KERALA       1901      Percentage departure  130.6  194.4  39.5   \n",
       "5504      KERALA       1901          No. of districts   14.0   14.0  14.0   \n",
       "5505      KERALA       1902                    Actual    6.7    2.6  57.3   \n",
       "5506      KERALA       1902      Percentage departure  -46.3  -83.0  55.0   \n",
       "5507      KERALA       1902          No. of districts   14.0   14.0  14.0   \n",
       "5508      KERALA       1903                    Actual    3.2   18.6   3.1   \n",
       "\n",
       "        APR    MAY    JUN     JUL    AUG    SEP    OCT    NOV    DEC  \n",
       "5499  109.3  233.1  654.2   707.2  419.8  242.8  295.3  164.1   39.9  \n",
       "5500   43.5  151.3  185.4   225.4  159.3  123.7   95.2   85.2   37.5  \n",
       "5501   39.8   64.9   28.3    31.9   37.9   50.9   32.2   51.9   94.0  \n",
       "5502  160.0  174.7  824.6   743.0  357.5  197.7  266.9  350.8   48.4  \n",
       "5503   46.4  -25.1   26.0     5.1  -14.8  -18.6   -9.6  113.8   21.3  \n",
       "5504   14.0   14.0   14.0    14.0   14.0   14.0   14.0   14.0   14.0  \n",
       "5505   83.9  134.5  390.9  1205.0  315.8  491.6  358.4  158.3  121.5  \n",
       "5506  -23.2  -42.3  -40.2    70.4  -24.8  102.5   21.4   -3.5  204.3  \n",
       "5507   14.0   14.0   14.0    14.0   14.0   14.0   14.0   14.0   14.0  \n",
       "5508   83.6  249.7  558.6  1022.5  420.2  341.8  354.1  157.0   59.0  "
      ]
     },
     "execution_count": 49,
     "metadata": {},
     "output_type": "execute_result"
    }
   ],
   "source": [
    "ker_stats.head(10)"
   ]
  },
  {
   "cell_type": "markdown",
   "metadata": {},
   "source": [
    "Now we do the same thing for <b><font size=\"3\">ker_monthly DataFrame</font></b><br>"
   ]
  },
  {
   "cell_type": "code",
   "execution_count": 28,
   "metadata": {},
   "outputs": [],
   "source": [
    "ker_monthly.drop(['ANNUAL','JF', 'MAM', 'JJAS', 'OND'], axis=1, inplace=True)"
   ]
  },
  {
   "cell_type": "code",
   "execution_count": 37,
   "metadata": {},
   "outputs": [],
   "source": [
    "x= np.array(ker_monthly)\n",
    "x = x[0:100,2:14]"
   ]
  },
  {
   "cell_type": "code",
   "execution_count": 40,
   "metadata": {},
   "outputs": [
    {
     "data": {
      "text/plain": [
       "[<matplotlib.lines.Line2D at 0x7fab79bbb0b8>,\n",
       " <matplotlib.lines.Line2D at 0x7fab79bbb208>,\n",
       " <matplotlib.lines.Line2D at 0x7fab79bbb358>,\n",
       " <matplotlib.lines.Line2D at 0x7fab79bbb4a8>,\n",
       " <matplotlib.lines.Line2D at 0x7fab79bbb5f8>,\n",
       " <matplotlib.lines.Line2D at 0x7fab79bbb748>,\n",
       " <matplotlib.lines.Line2D at 0x7fab79bbb898>,\n",
       " <matplotlib.lines.Line2D at 0x7fab79bbb9e8>,\n",
       " <matplotlib.lines.Line2D at 0x7fab79bbbb38>,\n",
       " <matplotlib.lines.Line2D at 0x7fab79bbbc88>,\n",
       " <matplotlib.lines.Line2D at 0x7fab79bf3748>,\n",
       " <matplotlib.lines.Line2D at 0x7fab79bbbef0>]"
      ]
     },
     "execution_count": 40,
     "metadata": {},
     "output_type": "execute_result"
    },
    {
     "data": {
      "image/png": "[encoded data removed]",
      "text/plain": [
       "<Figure size 432x288 with 1 Axes>"
      ]
     },
     "metadata": {
      "needs_background": "light"
     },
     "output_type": "display_data"
    }
   ],
   "source": [
    "plt.plot(x)"
   ]
  },
  {
   "cell_type": "code",
   "execution_count": null,
   "metadata": {},
   "outputs": [],
   "source": []
  }
 ],
 "metadata": {
  "kernelspec": {
   "display_name": "Python 3",
   "language": "python",
   "name": "python3"
  },
  "language_info": {
   "codemirror_mode": {
    "name": "ipython",
    "version": 3
   },
   "file_extension": ".py",
   "mimetype": "text/x-python",
   "name": "python",
   "nbconvert_exporter": "python",
   "pygments_lexer": "ipython3",
   "version": "3.6.8"
  }
 },
 "nbformat": 4,
 "nbformat_minor": 2
}
